{
 "cells": [
  {
   "cell_type": "markdown",
   "id": "45feb8cd",
   "metadata": {},
   "source": [
    "Question 1.What are the two values of the Boolean data type? How do you write them?"
   ]
  },
  {
   "cell_type": "markdown",
   "id": "384ed0b7",
   "metadata": {},
   "source": [
    "Answer 1:\n",
    "There are two values of boolean:\n",
    "1) True\n",
    "2) False\n",
    "\n",
    "and this is how we write them.\n",
    "\n",
    "a = True\n",
    "b = False"
   ]
  },
  {
   "cell_type": "markdown",
   "id": "7d6c49a3",
   "metadata": {},
   "source": [
    "Question 2. What are the three different types of Boolean operators?"
   ]
  },
  {
   "cell_type": "markdown",
   "id": "40b48514",
   "metadata": {},
   "source": [
    "There are three boolean Operators:\n",
    "\n",
    "1) AND searches find all of the search terms.  For example, searching on dengue AND malaria AND zika  returns only results that contain all three search terms.  Very limited results.\n",
    "\n",
    "2) OR searches find one term or the other.  Searching on dengue OR malaria OR zika returns all items that contain any of the three search terms.  Returns a large number of results.\n",
    "\n",
    "3) NOT eliminates items that contain the specified term.  Searching on malaria NOT zika returns items that are about malaria, but will specifically NOT return items that contain the word zika.  This is a way to fine-tune results. Note:  sometimes AND NOT is used;  serves the same function as NOT."
   ]
  },
  {
   "cell_type": "markdown",
   "id": "55fccb77",
   "metadata": {},
   "source": [
    "Question 3. Make a list of each Boolean operator&#39;s truth tables (i.e. every possible combination of Boolean\n",
    "values for the operator and what it evaluate )."
   ]
  },
  {
   "cell_type": "markdown",
   "id": "06205776",
   "metadata": {},
   "source": [
    "Answer 3.\n",
    "\n",
    "AND Truth Table\n",
    "\n",
    "x\t    and\ty\t        Returns\n",
    "\n",
    "True\tand\tTrue\t= True\n",
    "\n",
    "True\tand\tFalse\t= False\n",
    "\n",
    "False\tand\tTrue\t= False\n",
    "\n",
    "False\tand\tFalse\t= False\n",
    "\n",
    "OR Truth Table\n",
    "\n",
    "x\t    or\ty\t    Returns\n",
    "\n",
    "True\tor\tTrue\t= True\n",
    "\n",
    "True\tor\tFalse\t= True\n",
    "\n",
    "False\tor\tTrue\t= True\n",
    "\n",
    "False\tor\tFalse\t= False\n",
    "\n",
    "NOT Truth Table\n",
    "\n",
    "not\tx\t    Returns\n",
    "\n",
    "not\tTrue\t= False\n",
    "\n",
    "not\tFalse\t= True\n"
   ]
  },
  {
   "cell_type": "markdown",
   "id": "793e9a41",
   "metadata": {},
   "source": [
    "Question 4. What are the values of the following expressions?\n",
    "\n",
    "(5 > 4) and (3 == 5)\n",
    "\n",
    "not (5 > 4)\n",
    "\n",
    "(5 > 4) or (3 == 5)\n",
    "\n",
    "not ((5 > 4) or (3 == 5))\n",
    "\n",
    "(True and True) and (True == False)\n",
    "\n",
    "(not False) or (not True)"
   ]
  },
  {
   "cell_type": "code",
   "execution_count": 1,
   "id": "852b3fd3",
   "metadata": {},
   "outputs": [
    {
     "data": {
      "text/plain": [
       "False"
      ]
     },
     "execution_count": 1,
     "metadata": {},
     "output_type": "execute_result"
    }
   ],
   "source": [
    "(5 > 4) and (3 == 5)"
   ]
  },
  {
   "cell_type": "code",
   "execution_count": 2,
   "id": "0d217e8c",
   "metadata": {},
   "outputs": [
    {
     "data": {
      "text/plain": [
       "False"
      ]
     },
     "execution_count": 2,
     "metadata": {},
     "output_type": "execute_result"
    }
   ],
   "source": [
    "not (5 > 4)"
   ]
  },
  {
   "cell_type": "code",
   "execution_count": 3,
   "id": "b390fdcf",
   "metadata": {},
   "outputs": [
    {
     "data": {
      "text/plain": [
       "True"
      ]
     },
     "execution_count": 3,
     "metadata": {},
     "output_type": "execute_result"
    }
   ],
   "source": [
    "(5 > 4) or (3 == 5)"
   ]
  },
  {
   "cell_type": "code",
   "execution_count": 4,
   "id": "28149271",
   "metadata": {},
   "outputs": [
    {
     "data": {
      "text/plain": [
       "False"
      ]
     },
     "execution_count": 4,
     "metadata": {},
     "output_type": "execute_result"
    }
   ],
   "source": [
    "not ((5 > 4) or (3 == 5))"
   ]
  },
  {
   "cell_type": "code",
   "execution_count": 5,
   "id": "aa003503",
   "metadata": {},
   "outputs": [
    {
     "data": {
      "text/plain": [
       "False"
      ]
     },
     "execution_count": 5,
     "metadata": {},
     "output_type": "execute_result"
    }
   ],
   "source": [
    "(True and True) and (True == False)"
   ]
  },
  {
   "cell_type": "code",
   "execution_count": 6,
   "id": "74b1af2b",
   "metadata": {},
   "outputs": [
    {
     "data": {
      "text/plain": [
       "True"
      ]
     },
     "execution_count": 6,
     "metadata": {},
     "output_type": "execute_result"
    }
   ],
   "source": [
    "(not False) or (not True)"
   ]
  },
  {
   "cell_type": "markdown",
   "id": "d287381f",
   "metadata": {},
   "source": [
    "Question 5. What are the six comparison operators?"
   ]
  },
  {
   "cell_type": "markdown",
   "id": "7da34e95",
   "metadata": {},
   "source": [
    "Answer 5\n",
    "Python has six comparison operators, which are as follows:\n",
    "\n",
    "1) Less than ( < )\n",
    "\n",
    "2) Less than or equal to (<=)\n",
    "\n",
    "3) Greater than (>)\n",
    "\n",
    "4) Greater than or equal to (>=)\n",
    "\n",
    "5) Equal to ( == )\n",
    "\n",
    "6) Not equal to ( != )\n"
   ]
  },
  {
   "cell_type": "markdown",
   "id": "b400b9c6",
   "metadata": {},
   "source": [
    "Question 6. How do you tell the difference between the equal to and assignment operators?Describe a\n",
    "condition and when you would use one."
   ]
  },
  {
   "cell_type": "code",
   "execution_count": 8,
   "id": "c1ee369b",
   "metadata": {},
   "outputs": [
    {
     "data": {
      "text/plain": [
       "True"
      ]
     },
     "execution_count": 8,
     "metadata": {},
     "output_type": "execute_result"
    }
   ],
   "source": [
    "a=3# this is an assignment operator\n",
    "b=3 \n",
    "a==b #this is an equal to\n",
    "# assignment operator assigns the value to the variable \n",
    "# equal to check whether there values are same or different and returns True and False as output"
   ]
  },
  {
   "cell_type": "markdown",
   "id": "bafe9daa",
   "metadata": {},
   "source": [
    "Question 7. Identify the three blocks in this code:"
   ]
  },
  {
   "cell_type": "code",
   "execution_count": 10,
   "id": "b31d8692",
   "metadata": {},
   "outputs": [
    {
     "name": "stdout",
     "output_type": "stream",
     "text": [
      "ham\n",
      "spam\n",
      "spam\n"
     ]
    }
   ],
   "source": [
    "spam = 0\n",
    "#this is the first block\n",
    "if spam == 10:\n",
    "    print('eggs')\n",
    "#this is the second block\n",
    "if spam > 5:\n",
    "    print('bacon')\n",
    "# this is the third one\n",
    "else:\n",
    "    print('ham')\n",
    "print('spam')\n",
    "print('spam')"
   ]
  },
  {
   "cell_type": "markdown",
   "id": "29fedfd6",
   "metadata": {},
   "source": [
    "Question 8. Write code that prints Hello if 1 is stored in spam, prints Howdy if 2 is stored in spam, and prints Greetings! if anything else is stored in spam."
   ]
  },
  {
   "cell_type": "code",
   "execution_count": 21,
   "id": "5f862ab8",
   "metadata": {},
   "outputs": [
    {
     "name": "stdout",
     "output_type": "stream",
     "text": [
      "Howdy\n"
     ]
    }
   ],
   "source": [
    "spam= 2\n",
    "if spam == 1:\n",
    "    print(\"Hello\")\n",
    "if spam == 2:\n",
    "    print(\"Howdy\")\n",
    "else:\n",
    "    print(\"Greetings!\")"
   ]
  },
  {
   "cell_type": "markdown",
   "id": "f3df880e",
   "metadata": {},
   "source": [
    "Question 9.If your programme is stuck in an endless loop, what keys you’ll press?"
   ]
  },
  {
   "cell_type": "markdown",
   "id": "1e45e726",
   "metadata": {},
   "source": [
    "Answer 9 :\n",
    "We will interupt the kernel with the on the right side of the run or press ctrl+c"
   ]
  },
  {
   "cell_type": "markdown",
   "id": "88aa83d7",
   "metadata": {},
   "source": [
    "Question 10. How can you tell the difference between break and continue?"
   ]
  },
  {
   "cell_type": "markdown",
   "id": "4255fa23",
   "metadata": {},
   "source": [
    "The break statement is used to terminate the loop or statement in which it is present. After that, the control will pass to the statements that are present after the break statement, if available. If the break statement is present in the nested loop, then it terminates only those loops which contains break statement.\n",
    "\n",
    "Continue is also a loop control statement just like the break statement. continue statement is opposite to that of break statement, instead of terminating the loop, it forces to execute the next iteration of the loop."
   ]
  },
  {
   "cell_type": "markdown",
   "id": "6e88132a",
   "metadata": {},
   "source": [
    "Question 11. In a for loop, what is the difference between range(10), range(0, 10), and range(0, 10, 1)?"
   ]
  },
  {
   "cell_type": "markdown",
   "id": "f311b75a",
   "metadata": {},
   "source": [
    "Answer 11\n",
    "1) range(10) : in this we have only assign the value till which the loop will be running , no initial value is assigned , so it will take by default 0 and no step value or jump is assign, so it will take by default 1\n",
    "\n",
    "2) range(0,10) : In this we have only assign the value till which the loop will be running , initial value is assigned , so it will start from 0 and no step value or jump is assign, so it will take by default 1\n",
    "\n",
    "3) range(0,10,1) :  In this we have only assign the value till which the loop will be running , initial value is assigned , so it will start from 0 and step value or jump is assigned, so it will take jump by 1\n",
    "\n"
   ]
  },
  {
   "cell_type": "markdown",
   "id": "ec9bccb0",
   "metadata": {},
   "source": [
    "Question 12. Write a short program that prints the numbers 1 to 10 using a for loop. Then write an equivalent\n",
    "program that prints the numbers 1 to 10 using a while loop."
   ]
  },
  {
   "cell_type": "code",
   "execution_count": 24,
   "id": "a2d71002",
   "metadata": {},
   "outputs": [
    {
     "name": "stdout",
     "output_type": "stream",
     "text": [
      "1\n",
      "2\n",
      "3\n",
      "4\n",
      "5\n",
      "6\n",
      "7\n",
      "8\n",
      "9\n",
      "10\n"
     ]
    }
   ],
   "source": [
    "for i in range(1,11):\n",
    "    print(i)"
   ]
  },
  {
   "cell_type": "code",
   "execution_count": 40,
   "id": "32656820",
   "metadata": {},
   "outputs": [
    {
     "name": "stdout",
     "output_type": "stream",
     "text": [
      "1\n",
      "2\n",
      "3\n",
      "4\n",
      "5\n",
      "6\n",
      "7\n",
      "8\n",
      "9\n",
      "10\n"
     ]
    }
   ],
   "source": [
    "i=1\n",
    "while (i<11):\n",
    "    print(i)\n",
    "    i=i+1;"
   ]
  },
  {
   "cell_type": "markdown",
   "id": "87178d5a",
   "metadata": {},
   "source": [
    "Question 13. If you had a function named bacon() inside a module named spam, how would you call it after\n",
    "importing spam?"
   ]
  },
  {
   "cell_type": "markdown",
   "id": "234bda02",
   "metadata": {},
   "source": [
    "spam.bacon()"
   ]
  },
  {
   "cell_type": "code",
   "execution_count": null,
   "id": "1dce62a5",
   "metadata": {},
   "outputs": [],
   "source": []
  }
 ],
 "metadata": {
  "kernelspec": {
   "display_name": "Python 3 (ipykernel)",
   "language": "python",
   "name": "python3"
  },
  "language_info": {
   "codemirror_mode": {
    "name": "ipython",
    "version": 3
   },
   "file_extension": ".py",
   "mimetype": "text/x-python",
   "name": "python",
   "nbconvert_exporter": "python",
   "pygments_lexer": "ipython3",
   "version": "3.7.13"
  }
 },
 "nbformat": 4,
 "nbformat_minor": 5
}
