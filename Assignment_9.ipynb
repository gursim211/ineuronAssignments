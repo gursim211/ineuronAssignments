{
 "cells": [
  {
   "cell_type": "markdown",
   "id": "0cb87ac6-97bf-4e6b-9825-79e147aa8e24",
   "metadata": {},
   "source": [
    "## Question1 : To what does a relative path refer?To what does a relative path refer?"
   ]
  },
  {
   "cell_type": "markdown",
   "id": "96337a5f-68e6-4cbd-802c-7c593285376a",
   "metadata": {},
   "source": [
    "Answer 1: Relative paths are usually specified in relation to the current working directory using a combination of directory names and file names separated by slashes (\"/\") or backslashes (\"\"). For example, if the current working directory is \"/home/user/\", and you want to access a file called \"data.txt\" that is located in a directory called \"data\", you can specify the relative path as \"data/data.txt\".Relative paths are usually specified in relation to the current working directory using a combination of directory names and file names separated by slashes (\"/\") or backslashes (\"\"). For example, if the current working directory is \"/home/user/\", and you want to access a file called \"data.txt\" that is located in a directory called \"data\", you can specify the relative path as \"data/data.txt\"."
   ]
  },
  {
   "cell_type": "markdown",
   "id": "73918037-100f-4c8f-8795-835d14406f49",
   "metadata": {},
   "source": [
    "## Question 2 :  What does an absolute path start with your operating system?"
   ]
  },
  {
   "cell_type": "markdown",
   "id": "21cc40b6-1b52-423d-b1c6-c943ad30c36e",
   "metadata": {},
   "source": [
    "An absolute path starts with the root directory of the file system. The root directory is represented by a forward slash (\"/\") on Unix-based systems such as Linux and macOS, while on Windows systems it is represented by a drive letter followed by a colon (e.g., \"C:\"). an absolute path starts with the root directory of the file system. The root directory is represented by a forward slash (\"/\") on Unix-based systems such as Linux and macOS, while on Windows systems it is represented by a drive letter followed by a colon (e.g., \"C:\").\n",
    "\n",
    "Absolute paths provide a complete path to a file or directory, starting from the root directory, and are useful when you want to specify a specific location in the file system, regardless of the current working directory. However, they can be less portable than relative paths, as they may not work on different systems with different file system structures.Absolute paths provide a complete path to a file or directory, starting from the root directory, and are useful when you want to specify a specific location in the file system, regardless of the current working directory. However, they can be less portable than relative paths, as they may not work on different systems with different file system structures."
   ]
  },
  {
   "cell_type": "markdown",
   "id": "b1c59778-e092-491d-b829-815affffa877",
   "metadata": {},
   "source": [
    "## 3. What do the functions os.getcwd() and os.chdir() do?"
   ]
  },
  {
   "cell_type": "markdown",
   "id": "e2e63d71-4dd3-4dab-9146-da04b7c4a99c",
   "metadata": {},
   "source": [
    "In Python, the os module provides functions for working with the operating system, including functions for navigating and manipulating file paths. The os.getcwd() and os.chdir() functions are used to get and change the current working directory of the program, respectively.\n",
    "\n",
    "os.getcwd() is used to get the current working directory of the program as a string. The function takes no arguments and returns a string representing the current working directory. In Python, the os module provides functions for working with the operating system, including functions for navigating and manipulating file paths. The os.getcwd() and os.chdir() functions are used to get and change the current working directory of the program, respectively.\n",
    "\n",
    "\n",
    "os.chdir() is used to change the current working directory to a specified path. The function takes a string argument representing the path to the desired directory. For example, the following code changes the current working directory to the \"data\" directory located in the current working directory:\n",
    "\n"
   ]
  },
  {
   "cell_type": "markdown",
   "id": "81a9faf4-0a31-437e-8c26-e31c2150b061",
   "metadata": {},
   "source": [
    "## 4. What are the . and .. folders?"
   ]
  },
  {
   "cell_type": "markdown",
   "id": "08583967-d6ac-4ef0-916e-eff6b7b7fc43",
   "metadata": {},
   "source": [
    "The . folder, also known as the current directory, represents the current working directory. It is used to refer to the current directory in file paths and commands. For example, the file path ./data/file.txt refers to a file called \"file.txt\" located in a directory called \"data\" in the current working directory.\n",
    "\n",
    "The .. folder, also known as the parent directory, represents the directory that contains the current working directory. It is used to refer to the parent directory in file paths and commands. For example, the file path ../data/file.txt refers to a file called \"file.txt\" located in a directory called \"data\" that is one level up from the current working directory.\n",
    "\n",
    "Using . and .. in file paths can be useful for navigating between directories and accessing files in different parts of the file system. However, it's important to be careful when using these folders, as incorrect usage can lead to errors or unexpected behavior."
   ]
  },
  {
   "cell_type": "markdown",
   "id": "d12e2156-cb4d-4b37-9ca0-bf23acbee09b",
   "metadata": {},
   "source": [
    "## 5. In C:\\bacon\\eggs\\spam.txt, which part is the dir name, and which part is the base name?"
   ]
  },
  {
   "cell_type": "markdown",
   "id": "fe9f511d-7a88-47a8-93b0-30d90a4f0f26",
   "metadata": {},
   "source": [
    " the file path \"C:\\bacon\\eggs\\spam.txt\", the directory name is \"C:\\bacon\\eggs\", and the base name is \"spam.txt\".\n",
    "\n",
    "In file paths, the directory name refers to the path to the directory that contains the file, and the base name refers to the file name itself.\n",
    "\n",
    "In this case, \"C:\\bacon\\eggs\" is the directory that contains the file \"spam.txt\", and \"spam.txt\" is the name of the file. The backslash character (\"\") is used as the directory separator in Windows file paths, and separates the directory name from the base name. the file path \"C:\\bacon\\eggs\\spam.txt\", the directory name is \"C:\\bacon\\eggs\", and the base name is \"spam.txt\".\n",
    "\n",
    "In file paths, the directory name refers to the path to the directory that contains the file, and the base name refers to the file name itself.\n",
    "\n",
    "In this case, \"C:\\bacon\\eggs\" is the directory that contains the file \"spam.txt\", and \"spam.txt\" is the name of the file. The backslash character (\"\") is used as the directory separator in Windows file paths, and separates the directory name from the base name."
   ]
  },
  {
   "cell_type": "markdown",
   "id": "e6d6e462-e0a9-4e4d-be51-8740ed64b18f",
   "metadata": {},
   "source": [
    "## 6. What are the three “mode” arguments that can be passed to the open() function?"
   ]
  },
  {
   "cell_type": "markdown",
   "id": "f0b64839-0dda-45c7-8547-c6ace3d29b9a",
   "metadata": {},
   "source": [
    "\n",
    "The open() function in Python is used to open a file and returns a file object. It can take three different mode arguments:\n",
    "\n",
    "\"r\": This is the default mode and is used to open a file for reading. If the file does not exist, the function will raise a FileNotFoundError exception.\n",
    "\n",
    "\"w\": This mode is used to open a file for writing. If the file already exists, its contents will be truncated. If the file does not exist, a new file will be created.\n",
    "\n",
    "\"a\": This mode is used to open a file for writing, but appends new data to the end of the file instead of overwriting existing data. If the file does not exist, a new file will be created.\n",
    "The open() function in Python is used to open a file and returns a file object. It can take three different mode arguments:\n",
    "\n",
    "\"r\": This is the default mode and is used to open a file for reading. If the file does not exist, the function will raise a FileNotFoundError exception.\n",
    "\n",
    "\"w\": This mode is used to open a file for writing. If the file already exists, its contents will be truncated. If the file does not exist, a new file will be created.\n",
    "\n",
    "\"a\": This mode is used to open a file for writing, but appends new data to the end of the file instead of overwriting existing data. If the file does not exist, a new file will be created."
   ]
  },
  {
   "cell_type": "markdown",
   "id": "d135b268-abd3-4519-964e-c82ddcd2246b",
   "metadata": {},
   "source": [
    "## 7. What happens if an existing file is opened in write mode?"
   ]
  },
  {
   "cell_type": "markdown",
   "id": "4a271c42-e377-4e26-8b8e-de059cae524c",
   "metadata": {},
   "source": [
    "\n",
    "If an existing file is opened in write mode using the open() function in Python, the contents of the file will be truncated, which means that all existing data in the file will be deleted. If the file does not exist, a new file will be created.\n",
    "If an existing file is opened in write mode using the open() function in Python, the contents of the file will be truncated, which means that all existing data in the file will be deleted. If the file does not exist, a new file will be created.\n"
   ]
  },
  {
   "cell_type": "markdown",
   "id": "414f1281-99bd-4356-8fad-a33fdc6a75f4",
   "metadata": {},
   "source": [
    "## 8. How do you tell the difference between read() and readlines()?"
   ]
  },
  {
   "cell_type": "markdown",
   "id": "63586059-1793-4f2a-8368-f8012bcb68f5",
   "metadata": {},
   "source": [
    "read() method:\n",
    "The read() method reads the entire contents of the file and returns it as a single string. When called with no arguments, read() reads the entire file starting from the current file pointer. Alternatively, you can pass an optional argument to read() to specify the number of bytes to read from the file. For example, file.read(10) would read the first 10 bytes of the file.\n",
    "\n",
    "readlines() method:\n",
    "The readlines() method reads the entire contents of the file and returns it as a list of strings, where each string represents a line in the file. When called with no arguments, readlines() reads the entire file starting from the current file pointer. Alternatively, you can pass an optional argument to readlines() to specify the maximum number of lines to read from the file. For example, file.readlines(5) would read the first 5 lines of the file.read() method:\n",
    "The read() method reads the entire contents of the file and returns it as a single string. When called with no arguments, read() reads the entire file starting from the current file pointer. Alternatively, you can pass an optional argument to read() to specify the number of bytes to read from the file. For example, file.read(10) would read the first 10 bytes of the file.\n",
    "\n",
    "readlines() method:\n",
    "The readlines() method reads the entire contents of the file and returns it as a list of strings, where each string represents a line in the file. When called with no arguments, readlines() reads the entire file starting from the current file pointer. Alternatively, you can pass an optional argument to readlines() to specify the maximum number of lines to read from the file. For example, file.readlines(5) would read the first 5 lines of the file."
   ]
  },
  {
   "cell_type": "markdown",
   "id": "486723d6-dc3d-4682-b3aa-08e3b4308ba4",
   "metadata": {},
   "source": [
    "## 9. What data structure does a shelf value resemble?"
   ]
  },
  {
   "cell_type": "markdown",
   "id": "5ee232b0-2d0e-4293-9231-f851b2b1019c",
   "metadata": {},
   "source": [
    "In Python, the shelve module provides a way to store and retrieve Python objects from disk. The shelve module uses a dictionary-like object called a \"shelf\" to store the data. A shelf value resembles a dictionary, with keys and values, where both the keys and values can be Python objects.\n",
    "\n",
    "However, unlike a dictionary, a shelf value is persistent and can be stored on disk. This means that the data stored in a shelf can be accessed later, even after the program has exited. The shelf data is stored in a file on disk, which makes it convenient for storing and retrieving large amounts of data without having to keep all the data in memory.In Python, the shelve module provides a way to store and retrieve Python objects from disk. The shelve module uses a dictionary-like object called a \"shelf\" to store the data. A shelf value resembles a dictionary, with keys and values, where both the keys and values can be Python objects.\n",
    "\n",
    "However, unlike a dictionary, a shelf value is persistent and can be stored on disk. This means that the data stored in a shelf can be accessed later, even after the program has exited. The shelf data is stored in a file on disk, which makes it convenient for storing and retrieving large amounts of data without having to keep all the data in memory."
   ]
  }
 ],
 "metadata": {
  "kernelspec": {
   "display_name": "Python 3 (ipykernel)",
   "language": "python",
   "name": "python3"
  },
  "language_info": {
   "codemirror_mode": {
    "name": "ipython",
    "version": 3
   },
   "file_extension": ".py",
   "mimetype": "text/x-python",
   "name": "python",
   "nbconvert_exporter": "python",
   "pygments_lexer": "ipython3",
   "version": "3.7.13"
  }
 },
 "nbformat": 4,
 "nbformat_minor": 5
}
