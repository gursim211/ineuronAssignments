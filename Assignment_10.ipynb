{
 "cells": [
  {
   "cell_type": "markdown",
   "id": "221a55a4",
   "metadata": {},
   "source": [
    "## 1. How do you distinguish between shutil.copy() and shutil.copytree()?"
   ]
  },
  {
   "cell_type": "markdown",
   "id": "df5d25df",
   "metadata": {},
   "source": [
    "Answer :\n",
    "shutil.copy(src, dst) and shutil.copytree(src, dst) are both functions from the shutil module in Python, but they have different purposes:\n",
    "\n",
    "shutil.copy(src, dst) is used to copy a single file from the source src to the destination dst. If dst already exists, it will be overwritten by the contents of src. If dst is a directory, a new file with the same name as src will be created inside it.\n",
    "\n",
    "shutil.copytree(src, dst) is used to copy an entire directory tree from the source src to the destination dst. It will create a new directory with the same name as src inside dst, and then recursively copy all files and subdirectories from src into the new directory. If dst already exists, copytree will raise an error.\n",
    "\n",
    "In summary, shutil.copy is used to copy a single file, while shutil.copytree is used to copy an entire directory tree.\n",
    "\n",
    "\n",
    "\n",
    "\n"
   ]
  },
  {
   "cell_type": "markdown",
   "id": "7d9d35ad",
   "metadata": {},
   "source": [
    "## 2. What function is used to rename files??"
   ]
  },
  {
   "cell_type": "markdown",
   "id": "dd95eb2e",
   "metadata": {},
   "source": [
    "In Python, the os.rename() function is used to rename files. This function is part of the built-in os module, which provides a way to interact with the underlying operating system.\n",
    "\n",
    "The os.rename(src, dst) function renames the file or directory named src to dst. If dst is an existing file or directory, it will be replaced by the renamed src file. If src and dst refer to the same file or directory, os.rename() will raise an error."
   ]
  },
  {
   "cell_type": "markdown",
   "id": "80caa2ec",
   "metadata": {},
   "source": [
    "## 3. What is the difference between the delete functions in the send2trash and shutil modules?"
   ]
  },
  {
   "cell_type": "markdown",
   "id": "76549266",
   "metadata": {},
   "source": [
    "The send2trash and shutil modules in Python both provide functions to delete files or directories, but they have different behaviors:\n",
    "\n",
    "send2trash.send2trash(path) function moves the file or directory at path to the system trash or recycle bin instead of permanently deleting it. This function sends the file to the operating system's trash instead of deleting it immediately. This means that the file can be restored later if necessary. The send2trash() function is part of the third-party send2trash module, which needs to be installed separately using pip.\n",
    "\n",
    "shutil.rmtree(path) function recursively removes the directory tree rooted at path, including all files and subdirectories. This function deletes the files and directories permanently, and they cannot be restored from the trash or recycle bin. The rmtree() function is part of the built-in shutil module.\n",
    "\n",
    "In summary, send2trash.send2trash(path) moves the file or directory to the trash, while shutil.rmtree(path) permanently deletes the directory and all its contents."
   ]
  },
  {
   "cell_type": "markdown",
   "id": "1593d98d",
   "metadata": {},
   "source": [
    "## 4.ZipFile objects have a close() method just like File objects’ close() method. What ZipFile method is equivalent to File objects’ open() method?"
   ]
  },
  {
   "cell_type": "markdown",
   "id": "d11cb7ee",
   "metadata": {},
   "source": [
    "The equivalent method to File objects' open() method for ZipFile objects is ZipFile() itself.\n",
    "\n",
    "To open a ZIP archive, you can use the ZipFile() constructor to create a ZipFile object, which provides methods for working with the files and directories in the archive. The ZipFile() method takes the path to the archive file as its argument, and you can specify additional options such as the mode in which to open the archive."
   ]
  },
  {
   "cell_type": "markdown",
   "id": "d57bc8b7",
   "metadata": {},
   "source": [
    "## 5. Create a programme that searches a folder tree for files with a certain file extension (such as .pdf or .jpg). Copy these files from whatever location they are in to a new folder."
   ]
  },
  {
   "cell_type": "code",
   "execution_count": null,
   "id": "9f5917e9",
   "metadata": {},
   "outputs": [],
   "source": [
    "import os\n",
    "import shutil\n",
    "\n",
    "# Define the source and destination directories\n",
    "source_directory = '/path/to/source/directory'\n",
    "destination_directory = '/path/to/destination/directory'\n",
    "\n",
    "# Define the file extension to search for\n",
    "extension = '.pdf'\n",
    "\n",
    "# Walk through the directory tree and copy files with the specified extension\n",
    "for root, dirs, files in os.walk(source_directory):\n",
    "    for file in files:\n",
    "        if file.endswith(extension):\n",
    "            # Construct the source and destination file paths\n",
    "            source_path = os.path.join(root, file)\n",
    "            destination_path = os.path.join(destination_directory, file)\n",
    "            \n",
    "            # Copy the file to the destination directory\n",
    "            shutil.copy2(source_path, destination_path)\n",
    "            print(f\"Copied {file} to {destination_directory}\")\n"
   ]
  }
 ],
 "metadata": {
  "kernelspec": {
   "display_name": "Python 3 (ipykernel)",
   "language": "python",
   "name": "python3"
  },
  "language_info": {
   "codemirror_mode": {
    "name": "ipython",
    "version": 3
   },
   "file_extension": ".py",
   "mimetype": "text/x-python",
   "name": "python",
   "nbconvert_exporter": "python",
   "pygments_lexer": "ipython3",
   "version": "3.9.12"
  }
 },
 "nbformat": 4,
 "nbformat_minor": 5
}
