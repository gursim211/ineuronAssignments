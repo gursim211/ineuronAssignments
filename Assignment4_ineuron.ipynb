{
 "cells": [
  {
   "cell_type": "markdown",
   "id": "e43a39c5",
   "metadata": {},
   "source": [
    "1. What exactly is []?"
   ]
  },
  {
   "cell_type": "markdown",
   "id": "9dac46da",
   "metadata": {},
   "source": [
    "Answer 1) It is python syntax to define the list , in which we can define collection of data which can contain integer, string, float or list itself inside the list ."
   ]
  },
  {
   "cell_type": "code",
   "execution_count": 1,
   "id": "c812d8ae",
   "metadata": {},
   "outputs": [
    {
     "data": {
      "text/plain": [
       "[1, 2, 'hi', 'how are you', [45, 645, 76]]"
      ]
     },
     "execution_count": 1,
     "metadata": {},
     "output_type": "execute_result"
    }
   ],
   "source": [
    "l =[1,2,\"hi\",\"how are you\",[45,645,76]]\n",
    "l"
   ]
  },
  {
   "cell_type": "markdown",
   "id": "40ce4281",
   "metadata": {},
   "source": [
    "2. In a list of values stored in a variable called spam, how would you assign the value \"hello\" as the third value? (Assume [2, 4, 6, 8, 10] are in spam.)"
   ]
  },
  {
   "cell_type": "code",
   "execution_count": 2,
   "id": "2048fc3f",
   "metadata": {},
   "outputs": [],
   "source": [
    "spam=[2,4,6,8,10]"
   ]
  },
  {
   "cell_type": "code",
   "execution_count": 3,
   "id": "67280cd2",
   "metadata": {},
   "outputs": [
    {
     "data": {
      "text/plain": [
       "[2, 4, 'hello', 8, 10]"
      ]
     },
     "execution_count": 3,
     "metadata": {},
     "output_type": "execute_result"
    }
   ],
   "source": [
    "spam[2]=\"hello\"\n",
    "spam"
   ]
  },
  {
   "cell_type": "markdown",
   "id": "0446c545",
   "metadata": {},
   "source": [
    "3. What is the value of spam[int(int('3' * 2) / 11)]?"
   ]
  },
  {
   "cell_type": "code",
   "execution_count": 4,
   "id": "a8bcf3e4",
   "metadata": {},
   "outputs": [],
   "source": [
    "spam=['a','b','c','d']"
   ]
  },
  {
   "cell_type": "code",
   "execution_count": 5,
   "id": "917de177",
   "metadata": {},
   "outputs": [
    {
     "data": {
      "text/plain": [
       "'d'"
      ]
     },
     "execution_count": 5,
     "metadata": {},
     "output_type": "execute_result"
    }
   ],
   "source": [
    "spam[int(int('3' * 2) / 11)]"
   ]
  },
  {
   "cell_type": "markdown",
   "id": "a9513e69",
   "metadata": {},
   "source": [
    "4. What is the value of spam[-1]?"
   ]
  },
  {
   "cell_type": "code",
   "execution_count": 6,
   "id": "e5f4cd51",
   "metadata": {},
   "outputs": [
    {
     "data": {
      "text/plain": [
       "'d'"
      ]
     },
     "execution_count": 6,
     "metadata": {},
     "output_type": "execute_result"
    }
   ],
   "source": [
    "spam[-1]"
   ]
  },
  {
   "cell_type": "markdown",
   "id": "d5edb803",
   "metadata": {},
   "source": [
    "5. What is the value of spam[:2]?"
   ]
  },
  {
   "cell_type": "code",
   "execution_count": 7,
   "id": "f617c748",
   "metadata": {},
   "outputs": [
    {
     "data": {
      "text/plain": [
       "['a', 'b']"
      ]
     },
     "execution_count": 7,
     "metadata": {},
     "output_type": "execute_result"
    }
   ],
   "source": [
    "spam[:2]"
   ]
  },
  {
   "cell_type": "markdown",
   "id": "a213759a",
   "metadata": {},
   "source": [
    "6. What is the value of bacon.index('cat')?"
   ]
  },
  {
   "cell_type": "code",
   "execution_count": 8,
   "id": "82925de0",
   "metadata": {},
   "outputs": [],
   "source": [
    "bacon=[3.14, 'cat',11, 'cat', True]"
   ]
  },
  {
   "cell_type": "code",
   "execution_count": 9,
   "id": "63d48833",
   "metadata": {},
   "outputs": [
    {
     "data": {
      "text/plain": [
       "1"
      ]
     },
     "execution_count": 9,
     "metadata": {},
     "output_type": "execute_result"
    }
   ],
   "source": [
    "bacon.index('cat')"
   ]
  },
  {
   "cell_type": "markdown",
   "id": "56be1b78",
   "metadata": {},
   "source": [
    "7. How does bacon.append(99) change the look of the list value in bacon?"
   ]
  },
  {
   "cell_type": "code",
   "execution_count": 10,
   "id": "17b41eec",
   "metadata": {},
   "outputs": [
    {
     "data": {
      "text/plain": [
       "[3.14, 'cat', 11, 'cat', True, 99]"
      ]
     },
     "execution_count": 10,
     "metadata": {},
     "output_type": "execute_result"
    }
   ],
   "source": [
    "bacon.append(99)\n",
    "bacon"
   ]
  },
  {
   "cell_type": "markdown",
   "id": "3bc4a9de",
   "metadata": {},
   "source": [
    "8. How does bacon.remove(&#39;cat&#39;) change the look of the list in bacon?"
   ]
  },
  {
   "cell_type": "code",
   "execution_count": 11,
   "id": "b85b2011",
   "metadata": {},
   "outputs": [],
   "source": [
    "bacon.remove('cat')"
   ]
  },
  {
   "cell_type": "code",
   "execution_count": 12,
   "id": "29da1cce",
   "metadata": {},
   "outputs": [
    {
     "data": {
      "text/plain": [
       "[3.14, 11, 'cat', True, 99]"
      ]
     },
     "execution_count": 12,
     "metadata": {},
     "output_type": "execute_result"
    }
   ],
   "source": [
    "bacon"
   ]
  },
  {
   "cell_type": "markdown",
   "id": "fb52942f",
   "metadata": {},
   "source": [
    "it will remove the cat which comes first in terms of index values"
   ]
  },
  {
   "cell_type": "markdown",
   "id": "6ae2ce83",
   "metadata": {},
   "source": [
    "9. What are the list concatenation and list replication operators?"
   ]
  },
  {
   "cell_type": "markdown",
   "id": "2c184a72",
   "metadata": {},
   "source": [
    "list concatenation \n",
    "\n",
    "In this method, we traverse the second list and keep appending elements in the first list, so that first list would have all the elements in both lists and hence would perform the append."
   ]
  },
  {
   "cell_type": "code",
   "execution_count": 13,
   "id": "a8ad1d02",
   "metadata": {},
   "outputs": [
    {
     "data": {
      "text/plain": [
       "[1, 2, 3, 4, 5, 6]"
      ]
     },
     "execution_count": 13,
     "metadata": {},
     "output_type": "execute_result"
    }
   ],
   "source": [
    "a=[1,2,3]\n",
    "b=[4,5,6]\n",
    "a+b"
   ]
  },
  {
   "cell_type": "markdown",
   "id": "5ca6a5d1",
   "metadata": {},
   "source": [
    "list replication\n",
    "\n",
    "it is a process in which we copy the same list or variable and assign its same values to different elements"
   ]
  },
  {
   "cell_type": "code",
   "execution_count": 14,
   "id": "ca756196",
   "metadata": {},
   "outputs": [
    {
     "name": "stdout",
     "output_type": "stream",
     "text": [
      "Original List: [4, 8, 2, 10, 15, 18]\n",
      "After Cloning: [4, 8, 2, 10, 15, 18]\n"
     ]
    }
   ],
   "source": [
    "def Cloning(li1):\n",
    "    li_copy = li1[:]\n",
    "    return li_copy\n",
    " \n",
    " \n",
    "li1 = [4, 8, 2, 10, 15, 18]\n",
    "li2 = Cloning(li1)\n",
    "print(\"Original List:\", li1)\n",
    "print(\"After Cloning:\", li2)"
   ]
  },
  {
   "cell_type": "markdown",
   "id": "b675f18a",
   "metadata": {},
   "source": [
    "10. What is difference between the list methods append() and insert()?"
   ]
  },
  {
   "cell_type": "markdown",
   "id": "a574eca5",
   "metadata": {},
   "source": [
    "Append()\n",
    "\n",
    "it adds the elements in the last of the list "
   ]
  },
  {
   "cell_type": "code",
   "execution_count": 15,
   "id": "57192471",
   "metadata": {},
   "outputs": [],
   "source": [
    "c=[45,65]\n",
    "a.append(c)"
   ]
  },
  {
   "cell_type": "code",
   "execution_count": 16,
   "id": "363f2d2f",
   "metadata": {},
   "outputs": [
    {
     "data": {
      "text/plain": [
       "[1, 2, 3, [45, 65]]"
      ]
     },
     "execution_count": 16,
     "metadata": {},
     "output_type": "execute_result"
    }
   ],
   "source": [
    "a"
   ]
  },
  {
   "cell_type": "markdown",
   "id": "a1485e6a",
   "metadata": {},
   "source": [
    "The insert() method inserts the specified value at the specified position."
   ]
  },
  {
   "cell_type": "code",
   "execution_count": 17,
   "id": "9e24df5d",
   "metadata": {},
   "outputs": [],
   "source": [
    "fruits = ['apple', 'banana', 'cherry']\n",
    "\n",
    "fruits.insert(1, \"orange\")"
   ]
  },
  {
   "cell_type": "code",
   "execution_count": 18,
   "id": "2f96e0db",
   "metadata": {},
   "outputs": [
    {
     "data": {
      "text/plain": [
       "['apple', 'orange', 'banana', 'cherry']"
      ]
     },
     "execution_count": 18,
     "metadata": {},
     "output_type": "execute_result"
    }
   ],
   "source": [
    "fruits"
   ]
  },
  {
   "cell_type": "markdown",
   "id": "4d4e8d6f",
   "metadata": {},
   "source": [
    "11. What are the two methods for removing items from a list?"
   ]
  },
  {
   "cell_type": "markdown",
   "id": "d0b4e5c2",
   "metadata": {},
   "source": [
    "The pop() method removes an element from the list based on the index given.\n"
   ]
  },
  {
   "cell_type": "code",
   "execution_count": 21,
   "id": "b8903bbf",
   "metadata": {},
   "outputs": [
    {
     "name": "stdout",
     "output_type": "stream",
     "text": [
      "[12, 'Siya', 'Tiya', 14, 'Riya', 12, 'Riya']\n",
      "Tiya\n",
      "[12, 'Siya', 14, 'Riya', 12, 'Riya']\n"
     ]
    }
   ],
   "source": [
    "my_list = [12, 'Siya', 'Tiya', 14, 'Riya', 12, 'Riya']\n",
    "print(my_list)\n",
    "#By passing index as 2 to remove Tiya\n",
    "name = my_list.pop(2)\n",
    "print(name)\n",
    "print(my_list)\n"
   ]
  },
  {
   "cell_type": "markdown",
   "id": "92c47c41",
   "metadata": {},
   "source": [
    "Python removes () method is a built-in method available with the list. It helps to remove the given very first element matching from the list."
   ]
  },
  {
   "cell_type": "code",
   "execution_count": 22,
   "id": "6d25a6ff",
   "metadata": {},
   "outputs": [
    {
     "name": "stdout",
     "output_type": "stream",
     "text": [
      "['Siya', 'Tiya', 14, 'Riya', 12, 'Riya']\n"
     ]
    }
   ],
   "source": [
    "my_list = [12, 'Siya', 'Tiya', 14, 'Riya', 12, 'Riya']\n",
    "my_list.remove(12) # it will remove the element 12 at the start.\n",
    "print(my_list)"
   ]
  },
  {
   "cell_type": "markdown",
   "id": "126db6ac",
   "metadata": {},
   "source": [
    "12. Describe how list values and string values are identical."
   ]
  },
  {
   "cell_type": "code",
   "execution_count": 23,
   "id": "ef3ebe80",
   "metadata": {},
   "outputs": [
    {
     "name": "stdout",
     "output_type": "stream",
     "text": [
      "h\n",
      "h\n"
     ]
    }
   ],
   "source": [
    "a=\"hello\"\n",
    "b=['h','e','l','l','o']\n",
    "print(a[0])\n",
    "print(b[0])"
   ]
  },
  {
   "cell_type": "markdown",
   "id": "a783699b",
   "metadata": {},
   "source": [
    "from the above example we can see that 'a' is a string and 'b' is a list so as well are printing the 0 index value of the a and b they are giving the same output."
   ]
  },
  {
   "cell_type": "markdown",
   "id": "87691ddb",
   "metadata": {},
   "source": [
    "13. What&#39;s the difference between tuples and lists?"
   ]
  },
  {
   "cell_type": "markdown",
   "id": "b814d7d6",
   "metadata": {},
   "source": [
    "A list is a sequential collection of Python data values, where each value is identified by an index. The values that make up a list are called its elements. Lists are similar to strings, which are ordered collections of characters, except that the elements of a list can have any type and for any one list, the items can be of different types.\n",
    "\n",
    "A tuple, like a list, is a sequence of items of any type. The printed representation of a tuple is a comma-separated sequence of values, enclosed in parentheses. In other words, the representation is just like lists, except with parentheses () instead of square brackets [].\n",
    "\n",
    "The key difference between lists and tuples is that a tuple is immutable, meaning that its contents can’t be changed after the tuple is created. We will examine the mutability of lists in detail in the chapter on Mutability."
   ]
  },
  {
   "cell_type": "markdown",
   "id": "8c6b50e9",
   "metadata": {},
   "source": [
    "14. How do you type a tuple value that only contains the integer 42?"
   ]
  },
  {
   "cell_type": "code",
   "execution_count": 29,
   "id": "577ac2ea",
   "metadata": {},
   "outputs": [
    {
     "name": "stdout",
     "output_type": "stream",
     "text": [
      "<class 'tuple'>\n",
      "(42,)\n"
     ]
    }
   ],
   "source": [
    "t = (42,)\n",
    "print(type(t))\n",
    "print(t)"
   ]
  },
  {
   "cell_type": "markdown",
   "id": "4dfc3212",
   "metadata": {},
   "source": [
    "15. How do you get a list value&#39;s tuple form? How do you get a tuple value&#39;s list form?"
   ]
  },
  {
   "cell_type": "code",
   "execution_count": 31,
   "id": "c62cb167",
   "metadata": {},
   "outputs": [
    {
     "name": "stdout",
     "output_type": "stream",
     "text": [
      "<class 'tuple'>\n",
      "(1, 2, 3, 4, 5, 6)\n",
      "<class 'list'>\n",
      "[1, 2, 3, 4, 5, 6]\n"
     ]
    }
   ],
   "source": [
    "t=(1,2,3,4,5,6)\n",
    "print(type(t))\n",
    "print(t)\n",
    "l=list(t)\n",
    "print(type(l))\n",
    "print(l)"
   ]
  },
  {
   "cell_type": "code",
   "execution_count": 32,
   "id": "922bcbfe",
   "metadata": {},
   "outputs": [
    {
     "name": "stdout",
     "output_type": "stream",
     "text": [
      "<class 'list'>\n",
      "[1, 2, 3, 4, 5, 6]\n",
      "<class 'tuple'>\n",
      "(1, 2, 3, 4, 5, 6)\n"
     ]
    }
   ],
   "source": [
    "t=[1,2,3,4,5,6]\n",
    "print(type(t))\n",
    "print(t)\n",
    "l=tuple(t)\n",
    "print(type(l))\n",
    "print(l)"
   ]
  },
  {
   "cell_type": "markdown",
   "id": "a63edd2b",
   "metadata": {},
   "source": [
    "16. Variables that &quot;contain&quot; list values are not necessarily lists themselves. Instead, what do they\n",
    "contain?"
   ]
  },
  {
   "cell_type": "markdown",
   "id": "da46cc82",
   "metadata": {},
   "source": [
    "Variables will contain references to list values rather than list values themselves. But for strings and integer values, variables simply contain the string or integer value."
   ]
  },
  {
   "cell_type": "markdown",
   "id": "37a367fc",
   "metadata": {},
   "source": [
    "17. How do you distinguish between copy.copy() and copy.deepcopy()?"
   ]
  },
  {
   "cell_type": "code",
   "execution_count": 39,
   "id": "da36a0cd",
   "metadata": {},
   "outputs": [
    {
     "name": "stdout",
     "output_type": "stream",
     "text": [
      "old List: [[1, 2, 'c'], [5, 6, 7], [8, 9, 0]]\n",
      "new_list:  [[1, 2, 'c'], [5, 6, 7], [8, 9, 0]]\n"
     ]
    }
   ],
   "source": [
    "import copy\n",
    "  \n",
    "old_list=[[1,2,3],[5,6,7],[8,9,0]]\n",
    "\n",
    "new_list= copy.copy(old_list)\n",
    "\n",
    "new_list[0][2]='c'\n",
    "\n",
    "print(\"old List:\",old_list)\n",
    "print(\"new_list: \",new_list)"
   ]
  },
  {
   "cell_type": "markdown",
   "id": "e49926e3",
   "metadata": {},
   "source": [
    "as we can see in this copy we have changed the value of [0][2] and its value have changed in both the list in new and old list as well."
   ]
  },
  {
   "cell_type": "code",
   "execution_count": 40,
   "id": "ae454b76",
   "metadata": {},
   "outputs": [
    {
     "name": "stdout",
     "output_type": "stream",
     "text": [
      "old List: [[1, 2, 3], [5, 6, 7], [8, 9, 0]]\n",
      "new_list:  [[1, 2, 'c'], [5, 6, 7], [8, 9, 0]]\n"
     ]
    }
   ],
   "source": [
    "import copy\n",
    "  \n",
    "old_list=[[1,2,3],[5,6,7],[8,9,0]]\n",
    "\n",
    "new_list= copy.deepcopy(old_list)\n",
    "\n",
    "new_list[0][2]='c'\n",
    "\n",
    "print(\"old List:\",old_list)\n",
    "print(\"new_list: \",new_list)"
   ]
  },
  {
   "cell_type": "markdown",
   "id": "1b937d44",
   "metadata": {},
   "source": [
    "but as we can see in the deepcopy only the new list has been changed not the new one."
   ]
  },
  {
   "cell_type": "code",
   "execution_count": null,
   "id": "77fe3dfe",
   "metadata": {},
   "outputs": [],
   "source": []
  }
 ],
 "metadata": {
  "kernelspec": {
   "display_name": "Python 3 (ipykernel)",
   "language": "python",
   "name": "python3"
  },
  "language_info": {
   "codemirror_mode": {
    "name": "ipython",
    "version": 3
   },
   "file_extension": ".py",
   "mimetype": "text/x-python",
   "name": "python",
   "nbconvert_exporter": "python",
   "pygments_lexer": "ipython3",
   "version": "3.7.13"
  }
 },
 "nbformat": 4,
 "nbformat_minor": 5
}
