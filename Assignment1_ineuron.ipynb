{
 "cells": [
  {
   "cell_type": "markdown",
   "id": "cd3cf537",
   "metadata": {},
   "source": [
    "\n",
    "Question 1\n",
    "\n",
    "     * is an expression \n",
    "\n",
    "    'hello' is a value\n",
    "    -87.8 is a value\n",
    "    - is an expression\n",
    "    / is an expression\n",
    "    + is an expression\n",
    "    6 is a value"
   ]
  },
  {
   "cell_type": "markdown",
   "id": "f40119a1",
   "metadata": {},
   "source": [
    "2. What is the difference between string and variable? "
   ]
  },
  {
   "cell_type": "markdown",
   "id": "869cc0bb",
   "metadata": {},
   "source": [
    "Strings are amongst the most popular types in Python. We can create them simply by enclosing characters in quotes. Python treats single quotes the same as double quotes. Creating strings is as simple as assigning a value to a variable. For example −\n",
    "\n",
    "var1 = 'Hello World!'\n",
    "var2 = \"Python Programming\""
   ]
  },
  {
   "cell_type": "markdown",
   "id": "b98113ca",
   "metadata": {},
   "source": [
    "Variable\n",
    "In Python, a variable is a label that you can assign a value to it. And a variable is always associated with a value. For example:\n",
    "\n",
    "message = 'Hello, World!'\n",
    "print(message)\n",
    "\n",
    "a = 10\n",
    "print(a)\n",
    "\n",
    "Code language: Python (python)\n",
    "Output:\n",
    "\n",
    "Hello, World!\n",
    "\n",
    "10"
   ]
  },
  {
   "cell_type": "markdown",
   "id": "3ef9a2fb",
   "metadata": {},
   "source": [
    "Question 3. Describe three different data types."
   ]
  },
  {
   "cell_type": "markdown",
   "id": "895642ad",
   "metadata": {},
   "source": [
    "1) Integers \n",
    "\n",
    "This value is represented by int class. It contains positive or negative whole numbers (without fraction or decimal). In Python there is no limit to how long an integer value can be.\n",
    "\n",
    "2) String\n",
    "\n",
    "In Python, Strings are arrays of bytes representing Unicode characters. A string is a collection of one or more characters put in a single quote, double-quote or triple quote. In python there is no character data type, a character is a string of length one. It is represented by str class.\n",
    "\n",
    "3) List\n",
    "\n",
    "Lists are just like the arrays, declared in other languages which is a ordered collection of data. It is very flexible as the items in a list do not need to be of the same type.\n",
    " \n"
   ]
  },
  {
   "cell_type": "markdown",
   "id": "927c257f",
   "metadata": {},
   "source": [
    "Question 4. What is an expression made up of? What do all expressions do?"
   ]
  },
  {
   "cell_type": "markdown",
   "id": "89b5c7da",
   "metadata": {},
   "source": [
    "An expression is a combination of operators and operands that is interpreted to produce some other value. In any programming language, an expression is evaluated as per the precedence of its operators. \n",
    " We have many different types of expressions in Python. Let’s discuss\n",
    "    \n",
    "Arithmetic Expressions: An arithmetic expression is a combination of numeric values, operators, and sometimes parenthesis.\n",
    "\n",
    "    + Addition\n",
    "    - Subtracrtion\n",
    "    * Multiplication\n",
    "    / Division\n",
    "    % Remainder\n",
    "    ** Exponentiation\n",
    "\n",
    "Relational Expressions: \n",
    "    In these types of expressions, arithmetic expressions are written on both sides of relational operator (> , < , >= , <=). \n",
    "    \n",
    "Logical Expressions: \n",
    "    These are kinds of expressions that result in either True or False\n",
    "    \n",
    "    and it returns true if both are true otherwise false\n",
    "    or  It returns true if either one is true\n",
    "    not not P It returns true if condition P is true\n",
    "    \n",
    "    and many more..\n"
   ]
  },
  {
   "cell_type": "markdown",
   "id": "c35ad57b",
   "metadata": {},
   "source": [
    "Question 5. This assignment statements, like spam = 10. What is the difference between an\n",
    "expression and a statement?"
   ]
  },
  {
   "cell_type": "markdown",
   "id": "f1358def",
   "metadata": {},
   "source": [
    "Instructions written in the source code for execution are called statements. There are different types of statements in the Python programming language like Assignment statements, Conditional statements, Looping statements, etc. \n",
    "Some examples of Statements are \n",
    "\n",
    "print 42\n",
    "\n",
    "if x: do_y()\n",
    "\n",
    "return\n",
    "\n",
    "a = 7\n",
    "\n",
    "Expressions only contain identifiers, literals and operators, where operators include arithmetic and boolean operators, the function call operator () the subscription operator [] and similar, and can be reduced to some kind of \"value\", which can be any Python object. Examples:\n",
    "\n",
    "3 + 5\n",
    "\n",
    "map(lambda x: x*x, range(10))\n",
    "\n",
    "[a.x for a in some_iterable]\n",
    "\n",
    "yield 7"
   ]
  },
  {
   "cell_type": "markdown",
   "id": "6ae2c24b",
   "metadata": {},
   "source": [
    "Question 6. After running the following code, what does the variable bacon contain?\n"
   ]
  },
  {
   "cell_type": "code",
   "execution_count": 3,
   "id": "e3b4d868",
   "metadata": {},
   "outputs": [
    {
     "name": "stdout",
     "output_type": "stream",
     "text": [
      "22\n"
     ]
    }
   ],
   "source": [
    "bacon = 22\n",
    "bacon + 1\n",
    "print(bacon)"
   ]
  },
  {
   "cell_type": "markdown",
   "id": "bf9c8bca",
   "metadata": {},
   "source": [
    "Question 7. What should the values of the following two terms be?\n"
   ]
  },
  {
   "cell_type": "code",
   "execution_count": 4,
   "id": "04e538d4",
   "metadata": {},
   "outputs": [
    {
     "name": "stdout",
     "output_type": "stream",
     "text": [
      "spamspamspam spamspamspam\n"
     ]
    }
   ],
   "source": [
    "s='spam'+ 'spamspam'\n",
    "s1 = 'spam'*3\n",
    "print(s,s1)"
   ]
  },
  {
   "cell_type": "markdown",
   "id": "b2ce25c5",
   "metadata": {},
   "source": [
    "Question 8. Why is eggs a valid variable name while 100 is invalid?"
   ]
  },
  {
   "cell_type": "markdown",
   "id": "6cc7ac41",
   "metadata": {},
   "source": [
    "Because A variable name cannot start with a number and 100 is a number so it is invalid."
   ]
  },
  {
   "cell_type": "markdown",
   "id": "79be228c",
   "metadata": {},
   "source": [
    "Question 9. What three functions can be used to get the integer, floating-point number, or string\n",
    "version of a value?"
   ]
  },
  {
   "cell_type": "code",
   "execution_count": 5,
   "id": "b5753132",
   "metadata": {},
   "outputs": [
    {
     "name": "stdout",
     "output_type": "stream",
     "text": [
      "enter a number: 23\n",
      "23\n",
      "enter a float number: 523.235\n",
      "523.235\n",
      "Enter a String: hi I am 85\n",
      "hi I am 85\n"
     ]
    }
   ],
   "source": [
    "a= int(input(\"enter a number: \"))\n",
    "print(a)\n",
    "b= float(input(\"enter a float number: \"))\n",
    "print(b)\n",
    "c= input(\"Enter a String: \")\n",
    "print(c)"
   ]
  },
  {
   "cell_type": "code",
   "execution_count": 7,
   "id": "04ab0950",
   "metadata": {},
   "outputs": [
    {
     "ename": "TypeError",
     "evalue": "can only concatenate str (not \"int\") to str",
     "output_type": "error",
     "traceback": [
      "\u001b[0;31m---------------------------------------------------------------------------\u001b[0m",
      "\u001b[0;31mTypeError\u001b[0m                                 Traceback (most recent call last)",
      "\u001b[0;32m/var/folders/lr/7qcd775x2mb9lt1sdrb_y1mc0000gn/T/ipykernel_2550/876415207.py\u001b[0m in \u001b[0;36m<module>\u001b[0;34m\u001b[0m\n\u001b[1;32m      1\u001b[0m \u001b[0;31m#Question 10. Why does this expression cause an error? How can you fix it?\u001b[0m\u001b[0;34m\u001b[0m\u001b[0;34m\u001b[0m\u001b[0;34m\u001b[0m\u001b[0m\n\u001b[1;32m      2\u001b[0m \u001b[0;34m\u001b[0m\u001b[0m\n\u001b[0;32m----> 3\u001b[0;31m \u001b[0;34m'I have eaten'\u001b[0m\u001b[0;34m+\u001b[0m \u001b[0;36m99\u001b[0m\u001b[0;34m+\u001b[0m\u001b[0;34m'burritos'\u001b[0m\u001b[0;34m\u001b[0m\u001b[0;34m\u001b[0m\u001b[0m\n\u001b[0m",
      "\u001b[0;31mTypeError\u001b[0m: can only concatenate str (not \"int\") to str"
     ]
    }
   ],
   "source": [
    "#Question 10. Why does this expression cause an error? How can you fix it?\n",
    "\n",
    "'I have eaten'+ 99+'burritos'"
   ]
  },
  {
   "cell_type": "code",
   "execution_count": 9,
   "id": "4a9b3a71",
   "metadata": {},
   "outputs": [
    {
     "name": "stdout",
     "output_type": "stream",
     "text": [
      "I have eaten99burritos\n"
     ]
    }
   ],
   "source": [
    "#this expression is showing error because we are adding integer and string together , which is not possible so first need to convert that ineger into string then we will be able to concatenate them\n",
    "s= 'I have eaten'+ '99'+'burritos'\n",
    "print(s)"
   ]
  },
  {
   "cell_type": "code",
   "execution_count": null,
   "id": "eb4162d9",
   "metadata": {},
   "outputs": [],
   "source": []
  }
 ],
 "metadata": {
  "kernelspec": {
   "display_name": "Python 3 (ipykernel)",
   "language": "python",
   "name": "python3"
  },
  "language_info": {
   "codemirror_mode": {
    "name": "ipython",
    "version": 3
   },
   "file_extension": ".py",
   "mimetype": "text/x-python",
   "name": "python",
   "nbconvert_exporter": "python",
   "pygments_lexer": "ipython3",
   "version": "3.7.13"
  }
 },
 "nbformat": 4,
 "nbformat_minor": 5
}
