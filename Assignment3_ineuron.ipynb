{
 "cells": [
  {
   "cell_type": "markdown",
   "id": "7e027bc1",
   "metadata": {},
   "source": [
    "Question 1. Why are functions advantageous to have in your programs?"
   ]
  },
  {
   "cell_type": "markdown",
   "id": "0df1a796",
   "metadata": {},
   "source": [
    "Answer 1. Functions enable reuse of code, improve maintainability and scalability.\n",
    "\n",
    "Asking importance of parameters and return values is like asking the importance of ingredients in food.\n",
    "\n",
    "1) Reduced Coding Time\n",
    "\n",
    "An advantage of using functions and procedures is that coding time is reduced. If you only have to write a routine one time and code statements that call it, you save the time of coding the same routine multiple times, even if you opt to cut and paste the routine. The reduction in coding time helps to reduce the total project delivery time.\n",
    "\n",
    "2) Reduced Debugging Time\n",
    "\n",
    "In addition to reducing coding time, using procedures and functions help to reduce debugging time. When you put the same code in multiple places it is sometimes difficult to make debugging changes in all of those places. If you make the change in one place, but fail to make the change in the other two places it is easy to become confused. This makes it difficult to find the problem and eliminate it from every place in the program.\n",
    "\n",
    "3) Maintenance Effects\n",
    "\n",
    "The effects on program maintenance, which is the most costly of the development stages, can be both good and bad. As with debugging, if the problem is in a called procedure, then you can find it once and eliminate it quickly. However, if the programmer who wrote the code overused procedures and functions, the program can be harder to understand. The harder to understand, the longer it takes to fix a program.\n",
    "\n"
   ]
  },
  {
   "cell_type": "markdown",
   "id": "f8f9532b",
   "metadata": {},
   "source": [
    "Question 2. When does the code in a function run: when it's specified or when it's called?"
   ]
  },
  {
   "cell_type": "markdown",
   "id": "dae66670",
   "metadata": {},
   "source": [
    "A function is run when it is called not when it's specified.\n"
   ]
  },
  {
   "cell_type": "code",
   "execution_count": 1,
   "id": "76f2f005",
   "metadata": {},
   "outputs": [
    {
     "name": "stdout",
     "output_type": "stream",
     "text": [
      "Hello from a function\n"
     ]
    }
   ],
   "source": [
    "def my_function():\n",
    "  print(\"Hello from a function\")\n",
    "\n",
    "my_function()"
   ]
  },
  {
   "cell_type": "markdown",
   "id": "dad778f8",
   "metadata": {},
   "source": [
    "Question 3. What statement creates a function?"
   ]
  },
  {
   "cell_type": "markdown",
   "id": "44c7d832",
   "metadata": {},
   "source": [
    "Answer 3) def keyword creates the function in the python."
   ]
  },
  {
   "cell_type": "code",
   "execution_count": 3,
   "id": "4cc718be",
   "metadata": {},
   "outputs": [
    {
     "data": {
      "text/plain": [
       "7"
      ]
     },
     "execution_count": 3,
     "metadata": {},
     "output_type": "execute_result"
    }
   ],
   "source": [
    "def sum(a,b):\n",
    "    c=a+b\n",
    "    return c\n",
    "    \n",
    "sum(3,4)"
   ]
  },
  {
   "cell_type": "markdown",
   "id": "e8e571e2",
   "metadata": {},
   "source": [
    "Question 4. What is the difference between a function and a function call?"
   ]
  },
  {
   "cell_type": "markdown",
   "id": "116343f7",
   "metadata": {},
   "source": [
    "A function is a line of code in which we create a function which can be called n number of times anywhere.\n"
   ]
  },
  {
   "cell_type": "code",
   "execution_count": 5,
   "id": "8135c84d",
   "metadata": {},
   "outputs": [
    {
     "data": {
      "text/plain": [
       "18"
      ]
     },
     "execution_count": 5,
     "metadata": {},
     "output_type": "execute_result"
    }
   ],
   "source": [
    "# this is a function\n",
    "def length(a):\n",
    "    c= len(a)\n",
    "    return c\n",
    "\n",
    "#this is a function call\n",
    "length(\"what is the length\")"
   ]
  },
  {
   "cell_type": "markdown",
   "id": "11e9b65f",
   "metadata": {},
   "source": [
    "Question 5. How many global scopes are there in a Python program? How many local scopes?"
   ]
  },
  {
   "cell_type": "markdown",
   "id": "6a140686",
   "metadata": {},
   "source": [
    "Answer 5.\n",
    "\n",
    "Local Scope\n",
    "A variable created inside a function belongs to the local scope of that function, and can only be used inside that function.\n",
    "\n",
    "A variable created inside a function is available inside that function  is called as local scope.\n",
    "\n"
   ]
  },
  {
   "cell_type": "code",
   "execution_count": 6,
   "id": "63d2dfce",
   "metadata": {},
   "outputs": [
    {
     "name": "stdout",
     "output_type": "stream",
     "text": [
      "300\n"
     ]
    }
   ],
   "source": [
    "def myfunc():\n",
    "  x = 300 #it is a local variable\n",
    "  print(x)\n",
    "\n",
    "myfunc()"
   ]
  },
  {
   "cell_type": "markdown",
   "id": "aeaaa50b",
   "metadata": {},
   "source": [
    "Global Scope\n",
    "\n",
    "A variable created in the main body of the Python code is a global variable and belongs to the global scope.\n",
    "\n",
    "Global variables are available from within any scope, global and local.\n",
    "\n",
    "A variable created outside of a function is global and can be used by anyone:"
   ]
  },
  {
   "cell_type": "code",
   "execution_count": 7,
   "id": "d595f01f",
   "metadata": {},
   "outputs": [
    {
     "name": "stdout",
     "output_type": "stream",
     "text": [
      "300\n",
      "300\n"
     ]
    }
   ],
   "source": [
    "x = 300 # it is a Global scope\n",
    "\n",
    "def myfunc():\n",
    "  print(x)\n",
    "\n",
    "myfunc()\n",
    "\n",
    "print(x)"
   ]
  },
  {
   "cell_type": "markdown",
   "id": "c258ec2f",
   "metadata": {},
   "source": [
    "Question 6. What happens to variables in a local scope when the function call returns?"
   ]
  },
  {
   "cell_type": "code",
   "execution_count": 11,
   "id": "b1d48087",
   "metadata": {},
   "outputs": [
    {
     "data": {
      "text/plain": [
       "300"
      ]
     },
     "execution_count": 11,
     "metadata": {},
     "output_type": "execute_result"
    }
   ],
   "source": [
    "\n",
    "def myfunc(x):\n",
    "    x=300\n",
    "    return x\n",
    "\n",
    "myfunc(299)"
   ]
  },
  {
   "cell_type": "markdown",
   "id": "74066247",
   "metadata": {},
   "source": [
    "A local variable retains its value \n",
    "\n",
    "The local variable can be used outside the function any time after the function call completes."
   ]
  },
  {
   "cell_type": "markdown",
   "id": "d1742ad1",
   "metadata": {},
   "source": [
    "Question 7. What is the concept of a return value? Is it possible to have a return value in an expression?"
   ]
  },
  {
   "cell_type": "markdown",
   "id": "f5bb61c0",
   "metadata": {},
   "source": [
    "Answer 7)\n",
    "\n",
    "A return statement is used to end the execution of the function call and “returns” the result (value of the expression following the return keyword) to the caller. The statements after the return statements are not executed. If the return statement is without any expression, then the special value None is returned. A return statement is overall used to invoke a function so that the passed statements can be executed.\n",
    "\n",
    "No it is not possible to pass a return value in an expression"
   ]
  },
  {
   "cell_type": "markdown",
   "id": "77f452d4",
   "metadata": {},
   "source": [
    "Question 8. If a function does not have a return statement, what is the return value of a call to that function?"
   ]
  },
  {
   "cell_type": "code",
   "execution_count": 12,
   "id": "e7f9fc0c",
   "metadata": {},
   "outputs": [],
   "source": [
    "# the function will giive nothing as a return\n",
    "def addition(a,b):\n",
    "    c=a+b\n",
    "    \n",
    "addition(2,6)"
   ]
  },
  {
   "cell_type": "markdown",
   "id": "2e38194c",
   "metadata": {},
   "source": [
    "Question 9. How do you make a function variable refer to the global variable?"
   ]
  },
  {
   "cell_type": "code",
   "execution_count": 15,
   "id": "ac784735",
   "metadata": {},
   "outputs": [
    {
     "data": {
      "text/plain": [
       "3"
      ]
     },
     "execution_count": 15,
     "metadata": {},
     "output_type": "execute_result"
    }
   ],
   "source": [
    "# this is how we can pass aglobal variable to a function variable \n",
    "x=[3,0,0]\n",
    "\n",
    "def length(x):\n",
    "    l= len(x)\n",
    "    return l\n",
    "\n",
    "length(x)"
   ]
  },
  {
   "cell_type": "markdown",
   "id": "8a39f36b",
   "metadata": {},
   "source": [
    "Questin 10. What is the data type of None?"
   ]
  },
  {
   "cell_type": "code",
   "execution_count": 18,
   "id": "1646d062",
   "metadata": {},
   "outputs": [
    {
     "name": "stdout",
     "output_type": "stream",
     "text": [
      "<class 'NoneType'>\n"
     ]
    }
   ],
   "source": [
    "# it's class type is None\n",
    "a = None\n",
    "print(type(a)) "
   ]
  },
  {
   "cell_type": "markdown",
   "id": "2848151d",
   "metadata": {},
   "source": [
    "Question 11. What does the sentence import areallyourpetsnamederic do?"
   ]
  },
  {
   "cell_type": "markdown",
   "id": "7f733b3d",
   "metadata": {},
   "source": [
    "It will import the libaray name areallyourpetsnamederic"
   ]
  },
  {
   "cell_type": "markdown",
   "id": "5bbbe1f0",
   "metadata": {},
   "source": [
    "Question 12. If you had a bacon() feature in a spam module, what would you call it after importing spam?"
   ]
  },
  {
   "cell_type": "markdown",
   "id": "ceb1bbc3",
   "metadata": {},
   "source": [
    "This function can be called with spam.bacon()."
   ]
  },
  {
   "cell_type": "markdown",
   "id": "67ad6c26",
   "metadata": {},
   "source": [
    "Question 13. What can you do to save a programme from crashing if it encounters an error?"
   ]
  },
  {
   "cell_type": "markdown",
   "id": "1e0bc622",
   "metadata": {},
   "source": [
    "Try running the program and it should throw an error message instead of crashing the program. The reason for the exception is also returned as an exception message. In the above code, we have handled the file reading inside an IOError exception handler"
   ]
  },
  {
   "cell_type": "markdown",
   "id": "26f5c7af",
   "metadata": {},
   "source": [
    "Question 14. What is the purpose of the try clause? What is the purpose of the except clause?"
   ]
  },
  {
   "cell_type": "markdown",
   "id": "63be135f",
   "metadata": {},
   "source": [
    "In the try clause, all statements are executed until an exception is encountered. except is used to catch and handle the exception(s) that are encountered in the try clause. else lets you code sections that should run only when no exceptions are encountered in the try clause."
   ]
  },
  {
   "cell_type": "code",
   "execution_count": null,
   "id": "61110d8c",
   "metadata": {},
   "outputs": [],
   "source": []
  }
 ],
 "metadata": {
  "kernelspec": {
   "display_name": "Python 3 (ipykernel)",
   "language": "python",
   "name": "python3"
  },
  "language_info": {
   "codemirror_mode": {
    "name": "ipython",
    "version": 3
   },
   "file_extension": ".py",
   "mimetype": "text/x-python",
   "name": "python",
   "nbconvert_exporter": "python",
   "pygments_lexer": "ipython3",
   "version": "3.7.13"
  }
 },
 "nbformat": 4,
 "nbformat_minor": 5
}
